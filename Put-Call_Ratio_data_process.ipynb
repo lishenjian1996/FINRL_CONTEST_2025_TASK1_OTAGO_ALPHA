{
 "cells": [
  {
   "cell_type": "code",
   "execution_count": 14,
   "metadata": {},
   "outputs": [
    {
     "name": "stdout",
     "output_type": "stream",
     "text": [
      "   secid        date cp_flag  index_flag ticker  volume\n",
      "0   5139  2022-03-29       P           0    CAE       3\n",
      "1   5139  2022-10-24       C           0    CAE      16\n",
      "2   5139  2021-03-17     NaN           0    CAE      53\n",
      "3   5139  2021-11-11     NaN           0    CAE      42\n",
      "4   5139  2022-05-04       C           0    CAE     133\n",
      "            date ticker  PutCallRatio\n",
      "0     2012-01-03      A        0.2732\n",
      "2732  2012-01-04      A        1.3213\n",
      "5463  2012-01-05      A        0.8842\n",
      "8194  2012-01-06      A        0.9620\n",
      "10928 2012-01-09      A        0.3901\n"
     ]
    }
   ],
   "source": [
    "# load csv file from gzip\n",
    "import gzip\n",
    "import pandas as pd\n",
    "import os\n",
    "import numpy as np\n",
    "\n",
    "file_path = '0_OptionMetrics_Option_Volume_2012_2023_08.gz'\n",
    "\n",
    "# load csv file from gzip\n",
    "def load_csv_gzip(file_path, **kwargs):\n",
    "    if not os.path.exists(file_path):\n",
    "        raise FileNotFoundError(f\"File {file_path} does not exist.\")\n",
    "    with gzip.open(file_path, 'rt', encoding='utf-8') as f:\n",
    "        df = pd.read_csv(f, **kwargs)\n",
    "    return df\n",
    "\n",
    "\n",
    "# load the data\n",
    "df = load_csv_gzip(file_path, low_memory=False)\n",
    "\n",
    "# check the data\n",
    "print(df.head())\n",
    "\n",
    "\n",
    "# Ensure the columns are correct\n",
    "df['date'] = pd.to_datetime(df['date'])\n",
    "\n",
    "# Convert 'ticker' to string and strip whitespace\n",
    "df['cp_flag'] = df['cp_flag'].astype(str).str.strip()\n",
    "\n",
    "# Keep only relevant columns and filter for call and put options\n",
    "df = df[df['cp_flag'].isin(['C', 'P'])]\n",
    "# Pivot table\n",
    "volume_pivot = df.pivot_table(index=['date', 'ticker'], \n",
    "                              columns='cp_flag', \n",
    "                              values='volume', \n",
    "                              aggfunc='sum', \n",
    "                              fill_value=0)\n",
    "\n",
    "# Flatten MultiIndex columns\n",
    "volume_pivot.columns = [str(col) if isinstance(col, str) else str(col[1]) for col in volume_pivot.columns]\n",
    "\n",
    "# Rename for clarity\n",
    "volume_pivot = volume_pivot.rename(columns={'C': 'CallVolume', 'P': 'PutVolume'})\n",
    "\n",
    "# Compute ratio (avoid divide-by-zero)\n",
    "volume_pivot['PutCallRatio'] = volume_pivot['PutVolume'] / volume_pivot['CallVolume'].replace(0, np.nan)\n",
    "volume_pivot['PutCallRatio'] = volume_pivot['PutCallRatio'].fillna(0).round(4)\n",
    "\n",
    "# Reset index if needed\n",
    "volume_pivot = volume_pivot.reset_index()\n",
    "\n",
    "# Keep only relevant columns\n",
    "volume_pivot = volume_pivot[['date', 'ticker', 'PutCallRatio']]\n",
    "\n",
    "# Sort by ticker and date\n",
    "volume_pivot = volume_pivot.sort_values(by=['ticker', 'date'])\n",
    "\n",
    "# Preview and save\n",
    "print(volume_pivot.head())\n",
    "volume_pivot.to_csv(\"1_1_PutCallRatio_2012_2023_08.csv\", index=False)\n",
    "\n"
   ]
  },
  {
   "cell_type": "code",
   "execution_count": 1,
   "metadata": {},
   "outputs": [],
   "source": [
    "# Sort Putcallratio downloaded from Bloomberg (0_Putcall_ratio_from_Bloomberg_2023_08_12.csv)\n",
    "import pandas as pd\n",
    "# load the data\n",
    "df_bloomberg = pd.read_csv(\"0_Putcall_ratio_from_Bloomberg_2023_08_12.csv\", skiprows=1, low_memory=False)\n",
    "\n",
    "# Convert Date to year-month-day format\n",
    "df_bloomberg['Date'] = pd.to_datetime(df_bloomberg['Date'], format='%d/%m/%Y')\n",
    "\n",
    "df_long = df_bloomberg.melt(id_vars=['Date'], var_name='ticker', value_name='PutCallRatio')\n",
    "df_long['ticker'] = df_long['ticker'].str.replace(\" US Equity\", \"\", regex=False)\n",
    "\n",
    "# Only keep date from 2023-09-01\n",
    "df_long = df_long.rename(columns={'Date': 'date'})\n",
    "df_long = df_long[df_long['date'] >= '2023-09-01']\n",
    "df_long.to_csv(\"1_2_PutCallRatio_2023_09_12.csv\", index=False)\n",
    "\n"
   ]
  },
  {
   "cell_type": "code",
   "execution_count": 2,
   "metadata": {},
   "outputs": [],
   "source": [
    "# Match with train_data_2013_2018.csv's date and tic with 1_put_call_ratio_by_date_ticker.csv, output PutCallRatio to train_data_2013_2018.csv\n",
    "import pandas as pd\n",
    "# Load the train data\n",
    "train_data = pd.read_csv(\"train_data_2013_2018.csv\")\n",
    "# Load the volume data\n",
    "volume_data = pd.read_csv(\"1_1_PutCallRatio_2012_2023_08.csv\")\n",
    "\n",
    "# Merge with the volume data\n",
    "train_data['date'] = pd.to_datetime(train_data['date'])\n",
    "train_data['tic'] = train_data['tic'].astype(str).str.strip()\n",
    "volume_data['date'] = pd.to_datetime(volume_data['date'])\n",
    "train_data = train_data.merge(volume_data[['date', 'ticker', 'PutCallRatio']], \n",
    "                               left_on=['date', 'tic'], \n",
    "                               right_on=['date', 'ticker'], \n",
    "                               how='left')\n",
    "# output the result to train_data_2013_2018.csv\n",
    "train_data = train_data.drop(columns=['ticker'])\n",
    "train_data.to_csv(\"2_1_train_data_with_putcall_2013_2018.csv\", index=False)"
   ]
  },
  {
   "cell_type": "code",
   "execution_count": 3,
   "metadata": {},
   "outputs": [],
   "source": [
    "# Match with trade_data_2019_2023.csv's date and tic with 1_put_call_ratio_by_date_ticker.csv, output PutCallRatio to trade_data_2019_2023.csv\n",
    "import pandas as pd\n",
    "# Load the train data\n",
    "train_data = pd.read_csv(\"trade_data_2019_2023.csv\")\n",
    "# Load the volume data\n",
    "volume_data = pd.read_csv(\"1_2_PutCallRatio_2023_09_12.csv\")\n",
    "# Merge with the volume data\n",
    "train_data['date'] = pd.to_datetime(train_data['date'])\n",
    "volume_data['date'] = pd.to_datetime(volume_data['date'])\n",
    "train_data['tic'] = train_data['tic'].astype(str).str.strip()\n",
    "train_data = train_data.merge(volume_data[['date', 'ticker', 'PutCallRatio']], \n",
    "                               left_on=['date', 'tic'], \n",
    "                               right_on=['date', 'ticker'], \n",
    "                               how='left')\n",
    "# output the result to trade_data_2019_2023.csv\n",
    "train_data = train_data.drop(columns=['ticker'])\n",
    "train_data.to_csv(\"2_2_trade_data_with_putcall_2019_2023.csv\", index=False)"
   ]
  },
  {
   "cell_type": "markdown",
   "metadata": {},
   "source": [
    "################\n",
    "\n",
    "Abnormal Put Call ratio 30 days rolling window"
   ]
  },
  {
   "cell_type": "raw",
   "metadata": {
    "vscode": {
     "languageId": "raw"
    }
   },
   "source": [
    "# Calculate abnormal putcall ratio rolling 30 days\n",
    "# Load 1_1_PutCallRatio_2012_2023_08.csv and 1_2_PutCallRatio_2023_09_12.csv to combine together\n",
    "import pandas as pd\n",
    "\n",
    "# Load the volume data\n",
    "volume_data_1 = pd.read_csv(\"1_1_PutCallRatio_2012_2023_08.csv\")\n",
    "volume_data_2 = pd.read_csv(\"1_2_PutCallRatio_2023_09_12.csv\")\n",
    "# Combine the two dataframes\n",
    "volume_data = pd.concat([volume_data_1, volume_data_2], ignore_index=True)\n",
    "# Save the combined dataframe\n",
    "#volume_data.to_csv(\"1_3_PutCallRatio_2012_2023_09.csv\", index=False)\n",
    "\n",
    "# Numerical columns to float\n",
    "volume_data['PutCallRatio'] = volume_data['PutCallRatio'].astype(float)\n",
    "\n",
    "volume_data['RollingMean30'] = volume_data.groupby('ticker')['PutCallRatio']\\\n",
    "    .transform(lambda x: x.rolling(window=30, min_periods=30).mean())\n",
    "\n",
    "\n",
    "volume_data['AbnormalPutCallRatio'] = (volume_data['PutCallRatio'] - volume_data['RollingMean30']).round(4)\n",
    "\n",
    "# Fill NaN values with 0\n",
    "volume_data['AbnormalPutCallRatio'] = volume_data['AbnormalPutCallRatio'].fillna(0)\n",
    "\n",
    "# Keep only relevant columns\n",
    "abnormal_volume_data = volume_data[['date', 'ticker', 'AbnormalPutCallRatio']]\n",
    "\n",
    "# sort by ticker and date\n",
    "abnormal_volume_data = abnormal_volume_data.sort_values(by=['ticker', 'date'])\n",
    "\n",
    "# Save the result\n",
    "abnormal_volume_data.to_csv(\"1_3_Abnormal_PutCallRatio_2012_2023.csv\", index=False)"
   ]
  },
  {
   "cell_type": "raw",
   "metadata": {
    "vscode": {
     "languageId": "raw"
    }
   },
   "source": [
    "# Match with train_data_2013_2018.csv's date and tic with 1_put_call_ratio_by_date_ticker.csv, output PutCallRatio to train_data_2013_2018.csv\n",
    "import pandas as pd\n",
    "# Load the train data\n",
    "train_data = pd.read_csv(\"train_data_2013_2018.csv\")\n",
    "# Load the volume data\n",
    "volume_data = pd.read_csv(\"1_3_Abnormal_PutCallRatio_2012_2023.csv\")\n",
    "\n",
    "# Merge with the volume data\n",
    "train_data['date'] = pd.to_datetime(train_data['date'])\n",
    "train_data['tic'] = train_data['tic'].astype(str).str.strip()\n",
    "volume_data['date'] = pd.to_datetime(volume_data['date'])\n",
    "train_data = train_data.merge(volume_data[['date', 'ticker', 'AbnormalPutCallRatio']], \n",
    "                               left_on=['date', 'tic'], \n",
    "                               right_on=['date', 'ticker'], \n",
    "                               how='left')\n",
    "# output the result to train_data_2013_2018.csv\n",
    "train_data = train_data.drop(columns=['ticker'])\n",
    "train_data.to_csv(\"3_1_train_data_with_abnormalputcall_2013_2018.csv\", index=False)"
   ]
  },
  {
   "cell_type": "raw",
   "metadata": {
    "vscode": {
     "languageId": "raw"
    }
   },
   "source": [
    "# Match with trade_data_2019_2023.csv's date and tic with 1_put_call_ratio_by_date_ticker.csv, output PutCallRatio to trade_data_2019_2023.csv\n",
    "import pandas as pd\n",
    "# Load the train data\n",
    "train_data = pd.read_csv(\"trade_data_2019_2023.csv\")\n",
    "# Load the volume data\n",
    "volume_data = pd.read_csv(\"1_3_Abnormal_PutCallRatio_2012_2023.csv\")\n",
    "# Merge with the volume data\n",
    "train_data['date'] = pd.to_datetime(train_data['date'])\n",
    "volume_data['date'] = pd.to_datetime(volume_data['date'])\n",
    "train_data['tic'] = train_data['tic'].astype(str).str.strip()\n",
    "train_data = train_data.merge(volume_data[['date', 'ticker', 'AbnormalPutCallRatio']], \n",
    "                               left_on=['date', 'tic'], \n",
    "                               right_on=['date', 'ticker'], \n",
    "                               how='left')\n",
    "# output the result to trade_data_2019_2023.csv\n",
    "train_data = train_data.drop(columns=['ticker'])\n",
    "train_data.to_csv(\"3_2_trade_data_with_abnormalputcall_2019_2023.csv\", index=False)"
   ]
  },
  {
   "cell_type": "code",
   "execution_count": 11,
   "metadata": {},
   "outputs": [],
   "source": [
    "import pandas as pd\n",
    "\n",
    "# Load the train and trade data\n",
    "train_data = pd.read_csv(\"2_1_train_data_with_putcall_2013_2018.csv\")\n",
    "trade_data = pd.read_csv(\"2_2_trade_data_with_putcall_2019_2023.csv\")\n",
    "\n",
    "# Combine the two dataframes\n",
    "combined_data = pd.concat([train_data, trade_data], ignore_index=True)\n",
    "\n",
    "# Select only the relevant columns\n",
    "relevant_columns = ['vix', 'turbulence', 'PutCallRatio']\n",
    "summary_stats = combined_data[relevant_columns].describe()\n",
    "\n",
    "# Save the summary statistics to a CSV file\n",
    "summary_stats.to_csv(\"summary_statistics.csv\", index=True)\n"
   ]
  },
  {
   "cell_type": "code",
   "execution_count": null,
   "metadata": {},
   "outputs": [],
   "source": []
  }
 ],
 "metadata": {
  "kernelspec": {
   "display_name": "base",
   "language": "python",
   "name": "python3"
  },
  "language_info": {
   "codemirror_mode": {
    "name": "ipython",
    "version": 3
   },
   "file_extension": ".py",
   "mimetype": "text/x-python",
   "name": "python",
   "nbconvert_exporter": "python",
   "pygments_lexer": "ipython3",
   "version": "3.12.3"
  }
 },
 "nbformat": 4,
 "nbformat_minor": 2
}
